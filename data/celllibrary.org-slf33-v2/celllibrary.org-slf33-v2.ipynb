{
 "cells": [
  {
   "cell_type": "code",
   "execution_count": null,
   "metadata": {
    "collapsed": true
   },
   "outputs": [],
   "source": [
    "import cPickle as pickle\n",
    "from os.path import isfile\n",
    "from os.path import isdir\n",
    "import numpy\n",
    "from urllib import urlretrieve\n",
    "from os import makedirs\n",
    "from os import system\n",
    "\n",
    "filename = 'celllibrary.org-slf33-v2.pkl'\n",
    "if not isfile( filename ):\n",
    "    print \"Retrieving database \" + filename\n",
    "    url = 'http://murphylab.web.cmu.edu/software/searcher/' + filename\n",
    "    urlretrieve( url, filename )\n",
    "    \n",
    "data = pickle.load( open( filename, 'r' ))\n",
    "\n",
    "image_directory = './images/'\n",
    "if not isdir( image_directory ):\n",
    "    makedirs( image_directory )\n",
    "\n",
    "resolution = 0.176\n",
    "if data.has_key( resolution ):\n",
    "    data = data[resolution]"
   ]
  },
  {
   "cell_type": "code",
   "execution_count": null,
   "metadata": {
    "collapsed": false
   },
   "outputs": [],
   "source": [
    "cell_library = []\n",
    "\n",
    "for datum in data:\n",
    "    url = datum[3]\n",
    "    print \"Checking image \" + url\n",
    "    \n",
    "    if numpy.isnan( datum[6:] ).any():\n",
    "        print \"Features contain NaNs. Ignoring feature vector.\"\n",
    "    else:\n",
    "        iid = url[35:]\n",
    "        ome_tif_filename = image_directory + str(iid) + '.ome.tif'\n",
    "        ome_tif_url = 'http://grackle.crbs.ucsd.edu:8080/OmeroWebService/images/' + iid + '.tif'\n",
    "        original_image_viewer_url = datum[4]\n",
    "        original_image_url = datum[3]\n",
    "        thumbnail_image_url = datum[5]\n",
    "        ome_tif_thumbnail_filename = image_directory + str(iid) + '.ome.jpg'\n",
    "        \n",
    "        if not isfile( ome_tif_filename ):\n",
    "            print \"Retrieving image: \" + ome_tif_url\n",
    "            urlretrieve( ome_tif_url, ome_tif_filename )\n",
    "            \n",
    "            print \"Retrieving thumbnail: \" + original_image_viewer_url\n",
    "            urlretrieve( thumbnail_image_url, ome_tif_thumbnail_filename )\n",
    "            \n",
    "            database = datum[1]\n",
    "            features = datum[7:]\n",
    "            \n",
    "            cell_library.append([iid, ome_tif_filename, ome_tif_url, original_image_url,original_image_viewer_url, ome_tif_thumbnail_filename, thumbnail_image_url, resolution, features])\n",
    "            \n",
    "filename = 'database-celllibrary_featureset-slf33_resolution-' +  str(resolution) + '_version2.0.pkl'\n",
    "pickle.dump( cell_library, open( filename, 'w') )"
   ]
  }
 ],
 "metadata": {
  "kernelspec": {
   "display_name": "Python 2",
   "language": "python",
   "name": "python2"
  },
  "language_info": {
   "codemirror_mode": {
    "name": "ipython",
    "version": 2
   },
   "file_extension": ".py",
   "mimetype": "text/x-python",
   "name": "python",
   "nbconvert_exporter": "python",
   "pygments_lexer": "ipython2",
   "version": "2.7.10"
  }
 },
 "nbformat": 4,
 "nbformat_minor": 0
}
